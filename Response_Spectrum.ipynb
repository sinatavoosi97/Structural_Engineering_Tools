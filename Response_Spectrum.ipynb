{
 "cells": [
  {
   "cell_type": "code",
   "execution_count": 17,
   "id": "7d91d57b",
   "metadata": {},
   "outputs": [
    {
     "name": "stdout",
     "output_type": "stream",
     "text": [
      "           B     T\n",
      "0   1.100000  0.00\n",
      "1   2.750000  0.15\n",
      "2   2.750000  0.70\n",
      "3   2.779167  0.75\n",
      "4   2.621111  0.80\n",
      "..       ...   ...\n",
      "64  0.850889  3.80\n",
      "65  0.845066  3.85\n",
      "66  0.839394  3.90\n",
      "67  0.833868  3.95\n",
      "68  0.828481  4.00\n",
      "\n",
      "[69 rows x 2 columns]\n"
     ]
    },
    {
     "data": {
      "image/png": "[encoded data removed]",
      "text/plain": [
       "<Figure size 432x288 with 1 Axes>"
      ]
     },
     "metadata": {
      "needs_background": "light"
     },
     "output_type": "display_data"
    }
   ],
   "source": [
    "import pandas as pd\n",
    "import matplotlib.pyplot as plt\n",
    "#---------------------------------------------------------------------------------------------------------\n",
    "def calculate_Period():\n",
    "    T=[0,0.15,0.7]\n",
    "    while max(T)<4:\n",
    "\n",
    "        a=T[-1]+0.05\n",
    "        T.append(a)\n",
    "\n",
    "    period=[]\n",
    "    for item in T:\n",
    "        period.append(round(item,2))\n",
    "\n",
    "    period.pop(-1)\n",
    "    \n",
    "    return period\n",
    "#---------------------------------------------------------------------------------------------------------\n",
    "def calculate_reflection_Factor1(): \n",
    "\n",
    "    B1=[1.1,2.75,2.75]\n",
    "    for i in range(2,69):\n",
    "        B1.append(2.75*(0.7/calculate_Period()[i]))\n",
    "        i+=1\n",
    "    return B1\n",
    "#---------------------------------------------------------------------------------------------------------\n",
    "def calculate_modification_Factor():\n",
    "    N=[1,1,1]\n",
    "    for i in range(3,69):\n",
    "        N.append((0.7/(4-calculate_Period()[2]))*(calculate_Period()[i]-0.7)+1)\n",
    "        i=1\n",
    "    return N\n",
    "#---------------------------------------------------------------------------------------------------------\n",
    "def calculate_reflection_Factor():\n",
    "    B=[]\n",
    "    for i in range(len(B1)-1):\n",
    "        B.append(calculate_reflection_Factor1()[i]*calculate_modification_Factor()[i])\n",
    "    return B\n",
    "#---------------------------------------------------------------------------------------------------------\n",
    "def make_Table():\n",
    "    \n",
    "    Datas={\"B\":calculate_reflection_Factor(),\"T\":calculate_Period()}\n",
    "    Table=pd.DataFrame(Datas)\n",
    "    return Table\n",
    "#---------------------------------------------------------------------------------------------------------\n",
    "def make_plot():\n",
    "    plt.plot(period,B,label=\"Soil (III)\")\n",
    "    plt.xlabel(\"T(s)\")\n",
    "    plt.ylabel(\"B\")\n",
    "    plt.title(\"Response_Spectrum\")\n",
    "    plt.grid()\n",
    "    plt.show()\n",
    "#---------------------------------------------------------------------------------------------------------\n",
    "def main():\n",
    "    print(make_Table())\n",
    "    make_plot()\n",
    "    \n",
    "\n",
    "main()\n",
    "\n"
   ]
  },
  {
   "cell_type": "code",
   "execution_count": null,
   "id": "e61abda2",
   "metadata": {},
   "outputs": [],
   "source": []
  }
 ],
 "metadata": {
  "kernelspec": {
   "display_name": "Python 3 (ipykernel)",
   "language": "python",
   "name": "python3"
  },
  "language_info": {
   "codemirror_mode": {
    "name": "ipython",
    "version": 3
   },
   "file_extension": ".py",
   "mimetype": "text/x-python",
   "name": "python",
   "nbconvert_exporter": "python",
   "pygments_lexer": "ipython3",
   "version": "3.9.12"
  }
 },
 "nbformat": 4,
 "nbformat_minor": 5
}
